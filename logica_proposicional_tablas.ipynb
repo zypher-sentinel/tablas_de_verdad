{
 "cells": [
  {
   "cell_type": "markdown",
   "id": "79c032fe",
   "metadata": {},
   "source": [
    "# Planteamiento de ecuación. GA2-240201528-AA2-EV01  \n",
    "**Jhordy Naranjo**  \n",
    "Análisis y Desarrollo de Software  \n",
    "Transversal Matemáticas  \n",
    "Ficha: 3118532  \n",
    "Fecha: 10 de July de 2025"
   ]
  },
  {
   "cell_type": "markdown",
   "id": "b718d522",
   "metadata": {},
   "source": [
    "## Introducción\n",
    "\n",
    "La lógica proposicional es una rama fundamental de las matemáticas y la informática que permite analizar el valor de verdad de enunciados compuestos mediante conectores lógicos. Una herramienta clave en este análisis son las **tablas de verdad**, que nos permiten evaluar expresiones lógicas considerando todas las combinaciones posibles de valores para sus variables.\n",
    "\n",
    "En este trabajo se utilizan expresiones dadas con valores fijos (`p = True`, `q = False`, `r = False`) para resolver una serie de ejercicios de lógica utilizando Python. La finalidad es facilitar la comprensión del razonamiento lógico con ayuda de herramientas computacionales."
   ]
  },
  {
   "cell_type": "code",
   "execution_count": null,
   "id": "3c4bdef9",
   "metadata": {},
   "outputs": [],
   "source": [
    "# Definimos funciones básicas para operar lógica proposicional en Python\n",
    "def no(x):      # Negación lógica\n",
    "    return not x\n",
    "\n",
    "def y_(x, y):   # Conjunción lógica (AND)\n",
    "    return x and y\n",
    "\n",
    "def o(x, y):    # Disyunción lógica (OR)\n",
    "    return x or y\n",
    "\n",
    "def implica(x, y):  # Condicional (si x entonces y)\n",
    "    return (not x) or y\n",
    "\n",
    "def doble_iff(x, y):  # Bicondicional (x si y solo si y)\n",
    "    return x == y"
   ]
  },
  {
   "cell_type": "code",
   "execution_count": null,
   "id": "3d3edf9e",
   "metadata": {},
   "outputs": [],
   "source": [
    "# Valores dados según el enunciado del ejercicio\n",
    "p = True\n",
    "q = False\n",
    "r = False  # porque -r = True"
   ]
  },
  {
   "cell_type": "code",
   "execution_count": null,
   "id": "ef99c55d",
   "metadata": {},
   "outputs": [],
   "source": [
    "print(\"Ejercicio 1: ¬(p ∨ q) ↔ ¬(¬p ∧ ¬q)\")\n",
    "lado_izq = no(o(p, q))\n",
    "lado_der = no(y_(no(p), no(q)))\n",
    "print(f\"{lado_izq} ↔ {lado_der} = {doble_iff(lado_izq, lado_der)}\")\n",
    "\n",
    "print(\"\\nEjercicio 2: ¬(¬r ∧ q) ⟶ (q ↔ r)\")\n",
    "lado_izq = no(y_(no(r), q))\n",
    "lado_der = doble_iff(q, r)\n",
    "print(f\"{lado_izq} ⟶ {lado_der} = {implica(lado_izq, lado_der)}\")\n",
    "\n",
    "print(\"\\nEjercicio 3: ¬(p ∨ q) ↔ (¬p ⟶ ¬q)\")\n",
    "lado_izq = no(o(p, q))\n",
    "lado_der = implica(no(p), no(q))\n",
    "print(f\"{lado_izq} ↔ {lado_der} = {doble_iff(lado_izq, lado_der)}\")\n",
    "\n",
    "print(\"\\nEjercicio 4: {(p → q) ∨ (¬q ∧ r)} ↔ (r ∨ q)\")\n",
    "lado_izq = o(implica(p, q), y_(no(q), r))\n",
    "lado_der = o(r, q)\n",
    "print(f\"{lado_izq} ↔ {lado_der} = {doble_iff(lado_izq, lado_der)}\")\n",
    "\n",
    "print(\"\\nEjercicio 5: {[p ∧ r) ∨ (¬q ∧ p)} ⟶ (p ↔ r)\")\n",
    "lado_izq = o(y_(p, r), y_(no(q), p))\n",
    "lado_der = doble_iff(p, r)\n",
    "print(f\"{lado_izq} ⟶ {lado_der} = {implica(lado_izq, lado_der)}\")"
   ]
  },
  {
   "cell_type": "code",
   "execution_count": null,
   "id": "46214697",
   "metadata": {},
   "outputs": [],
   "source": [
    "print(\"Ejercicio 1: (p ∧ q) ↔ (r ∨ ¬q) ⟶ ¬p\")\n",
    "paso1 = doble_iff(y_(p, q), o(r, no(q)))\n",
    "resultado = implica(paso1, no(p))\n",
    "print(f\"({y_(p, q)} ↔ {o(r, no(q))}) ⟶ ¬p = {resultado}\")\n",
    "\n",
    "print(\"\\nEjercicio 2: ¬(¬q ∨ ¬r) ∧ (p ∧ r) ↔ (¬p ∧ r)\")\n",
    "lado_izq = y_(no(o(no(q), no(r))), y_(p, r))\n",
    "lado_der = y_(no(p), r)\n",
    "print(f\"{lado_izq} ↔ {lado_der} = {doble_iff(lado_izq, lado_der)}\")\n",
    "\n",
    "print(\"\\nEjercicio 3: (¬q ∨ ¬r) ⟶ (q ∧ ¬p)\")\n",
    "lado_izq = o(no(q), no(r))\n",
    "lado_der = y_(q, no(p))\n",
    "print(f\"{lado_izq} ⟶ {lado_der} = {implica(lado_izq, lado_der)}\")"
   ]
  },
  {
   "cell_type": "markdown",
   "id": "57712986",
   "metadata": {},
   "source": [
    "## Propuesta de mejora\n",
    "\n",
    "El uso de Python para representar tablas de verdad permite automatizar la lógica proposicional, facilitando la comprensión para estudiantes que aprenden programación y matemáticas simultáneamente.\n",
    "\n",
    "Para la vida diaria, una propuesta interesante es crear una pequeña aplicación que permita al usuario introducir sus propias proposiciones y obtener automáticamente el resultado lógico, facilitando decisiones racionales en áreas como:\n",
    "\n",
    "- Diagnóstico médico (síntomas y resultados)\n",
    "- Validación de reglas de negocio\n",
    "- Automatización de procesos lógicos en software\n",
    "\n",
    "También se puede incluir una interfaz gráfica con herramientas como **Voilà**, para que los resultados se presenten sin necesidad de ver código."
   ]
  },
  {
   "cell_type": "markdown",
   "id": "053e9bcd",
   "metadata": {},
   "source": [
    "## Conclusiones\n",
    "\n",
    "- Las tablas de verdad permiten analizar la validez de proposiciones complejas.\n",
    "- Python es una herramienta útil para automatizar y entender procesos lógicos.\n",
    "- Con valores fijos de entrada, se puede reducir la tabla a una sola evaluación.\n",
    "- Este enfoque es ideal para introducir la lógica formal en la formación técnica de estudiantes del SENA."
   ]
  },
  {
   "cell_type": "markdown",
   "id": "a1372b44",
   "metadata": {},
   "source": [
    "## Bibliografía\n",
    "\n",
    "- Biblioteca Virtual del SENA: http://biblioteca.sena.edu.co/\n",
    "- Python Documentation: https://docs.python.org/3/\n",
    "- Lógica Proposicional - Khan Academy: https://es.khanacademy.org"
   ]
  }
 ],
 "metadata": {},
 "nbformat": 4,
 "nbformat_minor": 5
}